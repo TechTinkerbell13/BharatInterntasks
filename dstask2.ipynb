{
  "nbformat": 4,
  "nbformat_minor": 0,
  "metadata": {
    "colab": {
      "provenance": [],
      "gpuType": "V28"
    },
    "kernelspec": {
      "name": "python3",
      "display_name": "Python 3"
    },
    "language_info": {
      "name": "python"
    },
    "accelerator": "TPU"
  },
  "cells": [
    {
      "cell_type": "markdown",
      "source": [
        "Importing necessary libraries and creation of model"
      ],
      "metadata": {
        "id": "LqpOx2e1CAWJ"
      }
    },
    {
      "cell_type": "code",
      "execution_count": 1,
      "metadata": {
        "colab": {
          "base_uri": "https://localhost:8080/"
        },
        "id": "dmKwOR75qN8c",
        "outputId": "235d15af-b9cd-4e62-d9e4-ac0abc6ec297"
      },
      "outputs": [
        {
          "output_type": "stream",
          "name": "stdout",
          "text": [
            "Mounted at /content/gdrive\n",
            "Downloading data from https://storage.googleapis.com/tensorflow/keras-applications/vgg16/vgg16_weights_tf_dim_ordering_tf_kernels_notop.h5\n",
            "58889256/58889256 [==============================] - 0s 0us/step\n",
            "Found 1061 images belonging to 2 classes.\n",
            "Found 1009 images belonging to 2 classes.\n",
            "Epoch 1/40\n",
            "34/34 [==============================] - 334s 10s/step - loss: 0.6450 - accuracy: 0.6635 - val_loss: 0.6018 - val_accuracy: 0.7849\n",
            "Epoch 2/40\n",
            "34/34 [==============================] - 39s 1s/step - loss: 0.5755 - accuracy: 0.7908 - val_loss: 0.5508 - val_accuracy: 0.8038\n",
            "Epoch 3/40\n",
            "34/34 [==============================] - 39s 1s/step - loss: 0.5278 - accuracy: 0.8313 - val_loss: 0.5119 - val_accuracy: 0.8345\n",
            "Epoch 4/40\n",
            "34/34 [==============================] - 38s 1s/step - loss: 0.4861 - accuracy: 0.8483 - val_loss: 0.4828 - val_accuracy: 0.8385\n",
            "Epoch 5/40\n",
            "34/34 [==============================] - 38s 1s/step - loss: 0.4575 - accuracy: 0.8567 - val_loss: 0.4567 - val_accuracy: 0.8414\n",
            "Epoch 6/40\n",
            "34/34 [==============================] - 38s 1s/step - loss: 0.4306 - accuracy: 0.8737 - val_loss: 0.4363 - val_accuracy: 0.8513\n",
            "Epoch 7/40\n",
            "34/34 [==============================] - 38s 1s/step - loss: 0.4093 - accuracy: 0.8709 - val_loss: 0.4162 - val_accuracy: 0.8543\n",
            "Epoch 8/40\n",
            "34/34 [==============================] - 38s 1s/step - loss: 0.3903 - accuracy: 0.8765 - val_loss: 0.4090 - val_accuracy: 0.8335\n",
            "Epoch 9/40\n",
            "34/34 [==============================] - 38s 1s/step - loss: 0.3744 - accuracy: 0.8841 - val_loss: 0.3864 - val_accuracy: 0.8612\n",
            "Epoch 10/40\n",
            "34/34 [==============================] - 38s 1s/step - loss: 0.3609 - accuracy: 0.8794 - val_loss: 0.3773 - val_accuracy: 0.8642\n",
            "Epoch 11/40\n",
            "34/34 [==============================] - 38s 1s/step - loss: 0.3505 - accuracy: 0.8784 - val_loss: 0.3656 - val_accuracy: 0.8731\n",
            "Epoch 12/40\n",
            "34/34 [==============================] - 38s 1s/step - loss: 0.3397 - accuracy: 0.8822 - val_loss: 0.3598 - val_accuracy: 0.8672\n",
            "Epoch 13/40\n",
            "34/34 [==============================] - 38s 1s/step - loss: 0.3313 - accuracy: 0.8888 - val_loss: 0.3484 - val_accuracy: 0.8682\n",
            "Epoch 14/40\n",
            "34/34 [==============================] - 38s 1s/step - loss: 0.3219 - accuracy: 0.8954 - val_loss: 0.3425 - val_accuracy: 0.8741\n",
            "Epoch 15/40\n",
            "34/34 [==============================] - 38s 1s/step - loss: 0.3151 - accuracy: 0.8907 - val_loss: 0.3361 - val_accuracy: 0.8741\n",
            "Epoch 16/40\n",
            "34/34 [==============================] - 38s 1s/step - loss: 0.3077 - accuracy: 0.8973 - val_loss: 0.3329 - val_accuracy: 0.8741\n",
            "Epoch 17/40\n",
            "34/34 [==============================] - 38s 1s/step - loss: 0.3016 - accuracy: 0.8944 - val_loss: 0.3251 - val_accuracy: 0.8781\n",
            "Epoch 18/40\n",
            "34/34 [==============================] - 38s 1s/step - loss: 0.2968 - accuracy: 0.8954 - val_loss: 0.3211 - val_accuracy: 0.8791\n",
            "Epoch 19/40\n",
            "34/34 [==============================] - 38s 1s/step - loss: 0.2916 - accuracy: 0.8973 - val_loss: 0.3144 - val_accuracy: 0.8821\n",
            "Epoch 20/40\n",
            "34/34 [==============================] - 38s 1s/step - loss: 0.2867 - accuracy: 0.8992 - val_loss: 0.3121 - val_accuracy: 0.8801\n",
            "Epoch 21/40\n",
            "34/34 [==============================] - 38s 1s/step - loss: 0.2819 - accuracy: 0.9029 - val_loss: 0.3102 - val_accuracy: 0.8751\n",
            "Epoch 22/40\n",
            "34/34 [==============================] - 38s 1s/step - loss: 0.2776 - accuracy: 0.9010 - val_loss: 0.3047 - val_accuracy: 0.8801\n",
            "Epoch 23/40\n",
            "34/34 [==============================] - 38s 1s/step - loss: 0.2723 - accuracy: 0.9039 - val_loss: 0.3021 - val_accuracy: 0.8821\n",
            "Epoch 24/40\n",
            "34/34 [==============================] - 38s 1s/step - loss: 0.2703 - accuracy: 0.9010 - val_loss: 0.2975 - val_accuracy: 0.8910\n",
            "Epoch 25/40\n",
            "34/34 [==============================] - 38s 1s/step - loss: 0.2682 - accuracy: 0.9057 - val_loss: 0.2942 - val_accuracy: 0.8920\n",
            "Epoch 26/40\n",
            "34/34 [==============================] - 38s 1s/step - loss: 0.2629 - accuracy: 0.9123 - val_loss: 0.2904 - val_accuracy: 0.8910\n",
            "Epoch 27/40\n",
            "34/34 [==============================] - 38s 1s/step - loss: 0.2598 - accuracy: 0.9114 - val_loss: 0.2878 - val_accuracy: 0.8920\n",
            "Epoch 28/40\n",
            "34/34 [==============================] - 38s 1s/step - loss: 0.2573 - accuracy: 0.9039 - val_loss: 0.2874 - val_accuracy: 0.8850\n",
            "Epoch 29/40\n",
            "34/34 [==============================] - 38s 1s/step - loss: 0.2536 - accuracy: 0.9095 - val_loss: 0.2829 - val_accuracy: 0.8949\n",
            "Epoch 30/40\n",
            "34/34 [==============================] - 38s 1s/step - loss: 0.2514 - accuracy: 0.9123 - val_loss: 0.2798 - val_accuracy: 0.8949\n",
            "Epoch 31/40\n",
            "34/34 [==============================] - 38s 1s/step - loss: 0.2491 - accuracy: 0.9123 - val_loss: 0.2778 - val_accuracy: 0.8959\n",
            "Epoch 32/40\n",
            "34/34 [==============================] - 38s 1s/step - loss: 0.2451 - accuracy: 0.9095 - val_loss: 0.2783 - val_accuracy: 0.8900\n",
            "Epoch 33/40\n",
            "34/34 [==============================] - 38s 1s/step - loss: 0.2443 - accuracy: 0.9086 - val_loss: 0.2743 - val_accuracy: 0.8999\n",
            "Epoch 34/40\n",
            "34/34 [==============================] - 38s 1s/step - loss: 0.2410 - accuracy: 0.9152 - val_loss: 0.2733 - val_accuracy: 0.8900\n",
            "Epoch 35/40\n",
            "34/34 [==============================] - 38s 1s/step - loss: 0.2386 - accuracy: 0.9152 - val_loss: 0.2720 - val_accuracy: 0.8890\n",
            "Epoch 36/40\n",
            "34/34 [==============================] - 38s 1s/step - loss: 0.2362 - accuracy: 0.9114 - val_loss: 0.2718 - val_accuracy: 0.8940\n",
            "Epoch 37/40\n",
            "34/34 [==============================] - 38s 1s/step - loss: 0.2353 - accuracy: 0.9189 - val_loss: 0.2693 - val_accuracy: 0.8940\n",
            "Epoch 38/40\n",
            "34/34 [==============================] - 38s 1s/step - loss: 0.2336 - accuracy: 0.9171 - val_loss: 0.2648 - val_accuracy: 0.9029\n",
            "Epoch 39/40\n",
            "34/34 [==============================] - 38s 1s/step - loss: 0.2294 - accuracy: 0.9189 - val_loss: 0.2659 - val_accuracy: 0.8870\n",
            "Epoch 40/40\n",
            "34/34 [==============================] - 38s 1s/step - loss: 0.2294 - accuracy: 0.9199 - val_loss: 0.2622 - val_accuracy: 0.9029\n",
            "32/32 [==============================] - 19s 574ms/step - loss: 0.2622 - accuracy: 0.9029\n",
            "Test accuracy: 0.9028741121292114\n"
          ]
        }
      ],
      "source": [
        "from google.colab import drive\n",
        "drive.mount('/content/gdrive')\n",
        "\n",
        "import tensorflow as tf\n",
        "from tensorflow.keras.applications import VGG16\n",
        "from tensorflow.keras.preprocessing.image import ImageDataGenerator\n",
        "import os\n",
        "\n",
        "# Set the path to the training and validation directories\n",
        "train_dir = '/content/gdrive/MyDrive/dogs-vs-cats/train'\n",
        "validation_dir = '/content/gdrive/MyDrive/dogs-vs-cats/test'\n",
        "\n",
        "# Set the number of epochs and batch size\n",
        "epochs = 40\n",
        "batch_size = 32\n",
        "\n",
        "# Load the pre-trained VGG16 model\n",
        "base_model = VGG16(weights='imagenet', include_top=False, input_shape=(224, 224, 3))\n",
        "\n",
        "# Freeze the layers of the pre-trained model\n",
        "for layer in base_model.layers:\n",
        "    layer.trainable = False\n",
        "\n",
        "# Add a new classification head\n",
        "x = base_model.output\n",
        "x = tf.keras.layers.GlobalAveragePooling2D()(x)\n",
        "x = tf.keras.layers.Dense(2, activation='softmax')(x)\n",
        "\n",
        "# Create a new model\n",
        "model = tf.keras.Model(inputs=base_model.input, outputs=x)\n",
        "\n",
        "# Compile the model with RMSprop optimizer\n",
        "model.compile(optimizer=tf.keras.optimizers.RMSprop(learning_rate=0.001),\n",
        "              loss='categorical_crossentropy', metrics=['accuracy'])\n",
        "\n",
        "# Create data generators for training and validation\n",
        "train_datagen = ImageDataGenerator(rescale=1./255)\n",
        "validation_datagen = ImageDataGenerator(rescale=1./255)\n",
        "\n",
        "train_generator = train_datagen.flow_from_directory(\n",
        "    train_dir,\n",
        "    target_size=(224, 224),\n",
        "    batch_size=batch_size,\n",
        "    class_mode='categorical'\n",
        ")\n",
        "\n",
        "validation_generator = validation_datagen.flow_from_directory(\n",
        "    validation_dir,\n",
        "    target_size=(224, 224),\n",
        "    batch_size=batch_size,\n",
        "    class_mode='categorical'\n",
        ")\n",
        "\n",
        "# Train the model\n",
        "history = model.fit(\n",
        "    train_generator,\n",
        "    epochs=epochs,\n",
        "    validation_data=validation_generator\n",
        ")\n",
        "\n",
        "# Evaluate the model on the test data\n",
        "test_loss, test_acc = model.evaluate(validation_generator)\n",
        "print('Test accuracy:', test_acc)"
      ]
    },
    {
      "cell_type": "markdown",
      "source": [
        "Evaluating the model"
      ],
      "metadata": {
        "id": "2AoqqLdyCOD3"
      }
    },
    {
      "cell_type": "code",
      "source": [
        "# Evaluate the model\n",
        "print(\"Training accuracy:\", history.history['accuracy'][-1])\n",
        "print(\"Validation accuracy:\", history.history['val_accuracy'][-1])"
      ],
      "metadata": {
        "colab": {
          "base_uri": "https://localhost:8080/"
        },
        "id": "IV7VMsbHAsbF",
        "outputId": "074d3457-9a08-4dd0-f028-97ddc6a235f5"
      },
      "execution_count": 2,
      "outputs": [
        {
          "output_type": "stream",
          "name": "stdout",
          "text": [
            "Training accuracy: 0.9198868870735168\n",
            "Validation accuracy: 0.9028741121292114\n"
          ]
        }
      ]
    },
    {
      "cell_type": "markdown",
      "source": [
        "Plotting the graph"
      ],
      "metadata": {
        "id": "3l1v51H5CSlN"
      }
    },
    {
      "cell_type": "code",
      "source": [
        "import matplotlib.pyplot as plt\n",
        "\n",
        "# Plot the training and validation accuracy and loss\n",
        "plt.plot(history.history['accuracy'], label='Training Accuracy')\n",
        "plt.plot(history.history['val_accuracy'], label='Validation Accuracy')\n",
        "plt.plot(history.history['loss'], label='Training Loss')\n",
        "plt.plot(history.history['val_loss'], label='Validation Loss')\n",
        "plt.legend()\n",
        "plt.show()"
      ],
      "metadata": {
        "colab": {
          "base_uri": "https://localhost:8080/",
          "height": 430
        },
        "id": "h-fE5FpOAvy9",
        "outputId": "5d760b34-00f4-4ed9-d373-94469975ae5e"
      },
      "execution_count": 4,
      "outputs": [
        {
          "output_type": "display_data",
          "data": {
            "text/plain": [
              "<Figure size 640x480 with 1 Axes>"
            ],
            "image/png": "[encoded data removed]"
          },
          "metadata": {}
        }
      ]
    },
    {
      "cell_type": "markdown",
      "source": [
        "Getting input image from user and classify if it is cat or dog image"
      ],
      "metadata": {
        "id": "KRxzCBR5CW66"
      }
    },
    {
      "cell_type": "code",
      "source": [
        "import numpy as np\n",
        "\n",
        "# Load a test image\n",
        "test_image_path = input(\"Enter the path to the test image: \")\n",
        "test_image = tf.keras.preprocessing.image.load_img(test_image_path, target_size=(224, 224))\n",
        "test_image = tf.keras.preprocessing.image.img_to_array(test_image)\n",
        "test_image = test_image / 255.0\n",
        "test_image = np.expand_dims(test_image, axis=0)\n",
        "\n",
        "# Make predictions on the test image\n",
        "predictions = model.predict(test_image)\n",
        "class_names = ['cats', 'dogs']\n",
        "predicted_class = class_names[np.argmax(predictions[0])]\n",
        "print(\"Predicted class:\", predicted_class)"
      ],
      "metadata": {
        "colab": {
          "base_uri": "https://localhost:8080/"
        },
        "id": "TxJ1wE9TBd7W",
        "outputId": "975c2e66-b378-4fff-fe7a-59ce84d73b84"
      },
      "execution_count": 6,
      "outputs": [
        {
          "output_type": "stream",
          "name": "stdout",
          "text": [
            "Enter the path to the test image: /content/gdrive/MyDrive/dogs-vs-cats/test/cats/cat.9013.jpg\n",
            "1/1 [==============================] - 0s 201ms/step\n",
            "Predicted class: cats\n"
          ]
        }
      ]
    }
  ]
}